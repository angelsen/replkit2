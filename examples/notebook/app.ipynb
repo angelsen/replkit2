{
 "cells": [
  {
   "cell_type": "markdown",
   "id": "1cb17b29",
   "metadata": {},
   "source": "# ReplKit2 Notebook App\n\nMinimal example showing notebook-as-app pattern with markers.\n\nRun with:\n```bash\nuv run replkit2 --notebook app.ipynb          # REPL\nuv run replkit2 --notebook app.ipynb --mcp    # MCP server\nuv run replkit2 --notebook app.ipynb --cli    # CLI\n```"
  },
  {
   "cell_type": "code",
   "execution_count": null,
   "id": "2558a8fd",
   "metadata": {},
   "outputs": [],
   "source": "# replkit2: state\nfrom dataclasses import dataclass, field\n\n@dataclass\nclass State:\n    items: list = field(default_factory=list)\n    count: int = 0"
  },
  {
   "cell_type": "code",
   "id": "4nrfo6lodxl",
   "source": "# replkit2: command list\nlist = {\n    \"display\": \"table\",\n    \"headers\": [\"Index\", \"Item\"],\n}\n\n# Return items as table\n[{\"Index\": i, \"Item\": item} for i, item in enumerate(state.items)]",
   "metadata": {},
   "execution_count": null,
   "outputs": []
  },
  {
   "cell_type": "code",
   "id": "2i9y27zvb58",
   "source": "# replkit2: command add\nadd = {\n    \"fastmcp\": {\"type\": \"tool\"},\n    \"cli\": {\"help\": \"Add an item\"},\n}\ntext: str = input(\"Enter item: \")  # replkit2: None\n\nstate.items.append(text)\nstate.count += 1\nf\"Added: {text}\"",
   "metadata": {},
   "execution_count": null,
   "outputs": []
  },
  {
   "cell_type": "code",
   "id": "lwob19c3nts",
   "source": "# replkit2: command clear\nclear = {\n    \"cli\": {\"help\": \"Clear all items\"},\n}\nforce: bool = True  # replkit2: False\n\nif not force:\n    response = input(\"Are you sure? (y/n): \")\n    if response.lower() != 'y':\n        \"Cancelled\"\nelse:\n    state.items = []\n    state.count = 0\n    \"Cleared all items\"",
   "metadata": {},
   "execution_count": null,
   "outputs": []
  },
  {
   "cell_type": "code",
   "id": "gzs3v4iwlmp",
   "source": "# replkit2: command stats\nstats = {\n    \"display\": \"box\",\n    \"fastmcp\": \"resource\",  # MCP resource at app://stats\n    \"cli\": False,           # Not in CLI\n}\n\nf\"Total items: {len(state.items)}\\nTotal added: {state.count}\"",
   "metadata": {},
   "execution_count": null,
   "outputs": []
  },
  {
   "cell_type": "markdown",
   "id": "dg1njdkstng",
   "source": "## Testing in notebook\n\nRun cells below to test commands interactively:",
   "metadata": {}
  },
  {
   "cell_type": "code",
   "id": "fh1r48rxt7b",
   "source": "# Test: Initialize and add items\nstate = State()\nstate.items = [\"First item\", \"Second item\"]\nstate.count = 2\n\n# Test list command\n[{\"Index\": i, \"Item\": item} for i, item in enumerate(state.items)]",
   "metadata": {},
   "execution_count": null,
   "outputs": []
  },
  {
   "cell_type": "code",
   "id": "yelfelk6249",
   "source": "# Test: Add command\ntext = \"Third item\"\nstate.items.append(text)\nstate.count += 1\nprint(f\"Added: {text}\")\n\n# Test stats\nprint(f\"Total items: {len(state.items)}\\nTotal added: {state.count}\")",
   "metadata": {},
   "execution_count": null,
   "outputs": []
  }
 ],
 "metadata": {
  "kernelspec": {
   "display_name": "replkit2",
   "language": "python",
   "name": "python3"
  },
  "language_info": {
   "codemirror_mode": {
    "name": "ipython",
    "version": 3
   },
   "file_extension": ".py",
   "mimetype": "text/x-python",
   "name": "python",
   "nbconvert_exporter": "python",
   "pygments_lexer": "ipython3",
   "version": "3.12.11"
  }
 },
 "nbformat": 4,
 "nbformat_minor": 5
}